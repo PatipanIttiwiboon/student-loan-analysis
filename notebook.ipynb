{
 "cells": [
  {
   "cell_type": "code",
   "execution_count": 24,
   "metadata": {},
   "outputs": [],
   "source": [
    "import pandas as pd"
   ]
  },
  {
   "cell_type": "code",
   "execution_count": 25,
   "metadata": {},
   "outputs": [
    {
     "data": {
      "text/html": [
       "<div>\n",
       "<style scoped>\n",
       "    .dataframe tbody tr th:only-of-type {\n",
       "        vertical-align: middle;\n",
       "    }\n",
       "\n",
       "    .dataframe tbody tr th {\n",
       "        vertical-align: top;\n",
       "    }\n",
       "\n",
       "    .dataframe thead th {\n",
       "        text-align: right;\n",
       "    }\n",
       "</style>\n",
       "<table border=\"1\" class=\"dataframe\">\n",
       "  <thead>\n",
       "    <tr style=\"text-align: right;\">\n",
       "      <th></th>\n",
       "      <th>type</th>\n",
       "      <th>in percent</th>\n",
       "    </tr>\n",
       "  </thead>\n",
       "  <tbody>\n",
       "    <tr>\n",
       "      <th>0</th>\n",
       "      <td>Forbearance</td>\n",
       "      <td>62</td>\n",
       "    </tr>\n",
       "    <tr>\n",
       "      <th>1</th>\n",
       "      <td>Default</td>\n",
       "      <td>15</td>\n",
       "    </tr>\n",
       "    <tr>\n",
       "      <th>2</th>\n",
       "      <td>In school</td>\n",
       "      <td>13</td>\n",
       "    </tr>\n",
       "    <tr>\n",
       "      <th>3</th>\n",
       "      <td>Deferment</td>\n",
       "      <td>7</td>\n",
       "    </tr>\n",
       "    <tr>\n",
       "      <th>4</th>\n",
       "      <td>Grace</td>\n",
       "      <td>2</td>\n",
       "    </tr>\n",
       "    <tr>\n",
       "      <th>5</th>\n",
       "      <td>Repayment</td>\n",
       "      <td>1</td>\n",
       "    </tr>\n",
       "  </tbody>\n",
       "</table>\n",
       "</div>"
      ],
      "text/plain": [
       "          type  in percent\n",
       "0  Forbearance          62\n",
       "1      Default          15\n",
       "2    In school          13\n",
       "3    Deferment           7\n",
       "4        Grace           2\n",
       "5    Repayment           1"
      ]
     },
     "execution_count": 25,
     "metadata": {},
     "output_type": "execute_result"
    }
   ],
   "source": [
    "df1 = pd.read_excel(\"Data/U.S.Stat/statistic_id785203_students-with-federal-loans-for-higher-education-us-2023-by-repayment-status.xlsx\", sheet_name='Data', skiprows=4, usecols=['Unnamed: 1', 'Unnamed: 2'])\n",
    "df1.rename(columns={'Unnamed: 1': 'type', 'Unnamed: 2': 'in percent'}, inplace=True)\n",
    "df1"
   ]
  },
  {
   "cell_type": "markdown",
   "metadata": {},
   "source": [
    "จะเห็นได้จากข้อมูลนี้ว่า default rate(หนี้สูญ)ของสหรัฐอเมริกา = 15% เปรียบเทียบกับประเทศไทยที่จากข้อมูลล่าสุดในเดือนกันยาปี 2565 มีอัตราหนี้เสียของ กยศ.ถึง 62%\n",
    "** สถิติของไทยมาจากบทความของ dailynews และ สถิติของสหรัฐมาจาก Statista ซึ่งไม่มีประวัติของหนี้เสียตลอดหลายปี มีเพียงแค่อัตราส่วนของหนี้เสียใน Student loan โดยรวมในปี 2566 ซึ่งอย่างที่เห็นมีค่าเท่ากับ 15%\n",
    "\n",
    "แต่ที่น่าสนใจกว่าคือปัจจัยต่างๆ ที่อาจจะส่งผลทำให้ NPL หรือหนี้เสียของไทยและสหรัฐแตกต่างกันขนาดนี้ เราจะเปรียบเทียบกับปัจจัยต่างๆ ดังนี้\n",
    "1. รายได้ต่อครัวเรือน\n",
    "2. "
   ]
  },
  {
   "cell_type": "code",
   "execution_count": null,
   "metadata": {},
   "outputs": [],
   "source": [
    "# df2 = pd.read_excel(\"Data/U.S.Stat/statistic_id1078714_number-of-student-loan-borrowers-by-balance-us-2023.xlsx\", sheet_name='Data', skiprows=4, usecols=['Unnamed: 1', 'Unnamed: 2'])\n",
    "# df2.rename(columns={'Unnamed: 1': 'range', 'Unnamed: 2': 'loaner in million'}, inplace=True)\n",
    "# df2"
   ]
  },
  {
   "cell_type": "code",
   "execution_count": null,
   "metadata": {},
   "outputs": [],
   "source": [
    "# df3 = pd.read_excel('Data/U.S.Stat/student loan in capital.xlsx', sheet_name='Data', skiprows=4, usecols=['Unnamed: 1', 'Unnamed: 2'])\n",
    "# df3.rename(columns={'Unnamed: 1': 'age range', 'Unnamed: 2': 'total loaned in billion u.s. dollar'}, inplace=True)\n",
    "# df3"
   ]
  },
  {
   "cell_type": "code",
   "execution_count": null,
   "metadata": {},
   "outputs": [],
   "source": []
  }
 ],
 "metadata": {
  "kernelspec": {
   "display_name": "Python 3",
   "language": "python",
   "name": "python3"
  },
  "language_info": {
   "codemirror_mode": {
    "name": "ipython",
    "version": 3
   },
   "file_extension": ".py",
   "mimetype": "text/x-python",
   "name": "python",
   "nbconvert_exporter": "python",
   "pygments_lexer": "ipython3",
   "version": "3.12.1"
  }
 },
 "nbformat": 4,
 "nbformat_minor": 2
}
